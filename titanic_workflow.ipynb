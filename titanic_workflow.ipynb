{
  "nbformat": 4,
  "nbformat_minor": 0,
  "metadata": {
    "colab": {
      "provenance": [],
      "authorship_tag": "ABX9TyNSMruVXDh4t7wpzsJk0Z9L",
      "include_colab_link": true
    },
    "kernelspec": {
      "name": "python3",
      "display_name": "Python 3"
    },
    "language_info": {
      "name": "python"
    }
  },
  "cells": [
    {
      "cell_type": "markdown",
      "metadata": {
        "id": "view-in-github",
        "colab_type": "text"
      },
      "source": [
        "<a href=\"https://colab.research.google.com/github/William1202-fox/titanic-ml-project/blob/main/titanic_workflow.ipynb\" target=\"_parent\"><img src=\"https://colab.research.google.com/assets/colab-badge.svg\" alt=\"Open In Colab\"/></a>"
      ]
    },
    {
      "cell_type": "markdown",
      "source": [
        "**0. kaggle API 載入 titanic 的資料**"
      ],
      "metadata": {
        "id": "0rJ_XrxKh8Ti"
      }
    },
    {
      "cell_type": "code",
      "execution_count": 2,
      "metadata": {
        "id": "rTh9zkaPhbNt",
        "colab": {
          "base_uri": "https://localhost:8080/"
        },
        "outputId": "61419fc8-6da4-49e6-a1b9-c5349c245963"
      },
      "outputs": [
        {
          "output_type": "stream",
          "name": "stdout",
          "text": [
            "chmod: cannot access 'kaggle.json': No such file or directory\n",
            "Warning: Your Kaggle API key is readable by other users on this system! To fix this, you can run 'chmod 600 /root/.kaggle/kaggle.json'\n",
            "Downloading titanic.zip to /content\n",
            "  0% 0.00/34.1k [00:00<?, ?B/s]\n",
            "100% 34.1k/34.1k [00:00<00:00, 105MB/s]\n",
            "Archive:  titanic.zip\n",
            "  inflating: gender_submission.csv   \n",
            "  inflating: test.csv                \n",
            "  inflating: train.csv               \n"
          ]
        }
      ],
      "source": [
        "!pip install -q kaggle\n",
        "!mkdir -p ~/.kaggle\n",
        "!mv kaggle.json ~/.kaggle/\n",
        "!chmod 600 ~/.kaggle/ kaggle.json\n",
        "!kaggle competitions download -c titanic\n",
        "!unzip titanic.zip"
      ]
    },
    {
      "cell_type": "markdown",
      "source": [
        "**1.1 先看檔案內容大概長怎樣(EDA)**"
      ],
      "metadata": {
        "id": "DyHbzqlskx0r"
      }
    },
    {
      "cell_type": "code",
      "source": [
        "import pandas as pd\n",
        "train = pd.read_csv('train.csv')\n",
        "test = pd.read_csv('test.csv')\n",
        "\n",
        "train.head() #前5列長怎樣\n",
        "train.shape  #(row, column)\n",
        "train.info() #每欄型別與缺值\n",
        "train.describe(include = 'all') #數值統計 & 類別統計"
      ],
      "metadata": {
        "collapsed": true,
        "id": "w9uMQM5JieDL",
        "colab": {
          "base_uri": "https://localhost:8080/",
          "height": 734
        },
        "outputId": "2797391f-f2be-4ab2-de7e-57accefbdc0f"
      },
      "execution_count": 3,
      "outputs": [
        {
          "output_type": "stream",
          "name": "stdout",
          "text": [
            "<class 'pandas.core.frame.DataFrame'>\n",
            "RangeIndex: 891 entries, 0 to 890\n",
            "Data columns (total 12 columns):\n",
            " #   Column       Non-Null Count  Dtype  \n",
            "---  ------       --------------  -----  \n",
            " 0   PassengerId  891 non-null    int64  \n",
            " 1   Survived     891 non-null    int64  \n",
            " 2   Pclass       891 non-null    int64  \n",
            " 3   Name         891 non-null    object \n",
            " 4   Sex          891 non-null    object \n",
            " 5   Age          714 non-null    float64\n",
            " 6   SibSp        891 non-null    int64  \n",
            " 7   Parch        891 non-null    int64  \n",
            " 8   Ticket       891 non-null    object \n",
            " 9   Fare         891 non-null    float64\n",
            " 10  Cabin        204 non-null    object \n",
            " 11  Embarked     889 non-null    object \n",
            "dtypes: float64(2), int64(5), object(5)\n",
            "memory usage: 83.7+ KB\n"
          ]
        },
        {
          "output_type": "execute_result",
          "data": {
            "text/plain": [
              "        PassengerId    Survived      Pclass                 Name   Sex  \\\n",
              "count    891.000000  891.000000  891.000000                  891   891   \n",
              "unique          NaN         NaN         NaN                  891     2   \n",
              "top             NaN         NaN         NaN  Dooley, Mr. Patrick  male   \n",
              "freq            NaN         NaN         NaN                    1   577   \n",
              "mean     446.000000    0.383838    2.308642                  NaN   NaN   \n",
              "std      257.353842    0.486592    0.836071                  NaN   NaN   \n",
              "min        1.000000    0.000000    1.000000                  NaN   NaN   \n",
              "25%      223.500000    0.000000    2.000000                  NaN   NaN   \n",
              "50%      446.000000    0.000000    3.000000                  NaN   NaN   \n",
              "75%      668.500000    1.000000    3.000000                  NaN   NaN   \n",
              "max      891.000000    1.000000    3.000000                  NaN   NaN   \n",
              "\n",
              "               Age       SibSp       Parch  Ticket        Fare Cabin Embarked  \n",
              "count   714.000000  891.000000  891.000000     891  891.000000   204      889  \n",
              "unique         NaN         NaN         NaN     681         NaN   147        3  \n",
              "top            NaN         NaN         NaN  347082         NaN    G6        S  \n",
              "freq           NaN         NaN         NaN       7         NaN     4      644  \n",
              "mean     29.699118    0.523008    0.381594     NaN   32.204208   NaN      NaN  \n",
              "std      14.526497    1.102743    0.806057     NaN   49.693429   NaN      NaN  \n",
              "min       0.420000    0.000000    0.000000     NaN    0.000000   NaN      NaN  \n",
              "25%      20.125000    0.000000    0.000000     NaN    7.910400   NaN      NaN  \n",
              "50%      28.000000    0.000000    0.000000     NaN   14.454200   NaN      NaN  \n",
              "75%      38.000000    1.000000    0.000000     NaN   31.000000   NaN      NaN  \n",
              "max      80.000000    8.000000    6.000000     NaN  512.329200   NaN      NaN  "
            ],
            "text/html": [
              "\n",
              "  <div id=\"df-be98cd9b-2efd-475c-8e5d-09f16fc06bf6\" class=\"colab-df-container\">\n",
              "    <div>\n",
              "<style scoped>\n",
              "    .dataframe tbody tr th:only-of-type {\n",
              "        vertical-align: middle;\n",
              "    }\n",
              "\n",
              "    .dataframe tbody tr th {\n",
              "        vertical-align: top;\n",
              "    }\n",
              "\n",
              "    .dataframe thead th {\n",
              "        text-align: right;\n",
              "    }\n",
              "</style>\n",
              "<table border=\"1\" class=\"dataframe\">\n",
              "  <thead>\n",
              "    <tr style=\"text-align: right;\">\n",
              "      <th></th>\n",
              "      <th>PassengerId</th>\n",
              "      <th>Survived</th>\n",
              "      <th>Pclass</th>\n",
              "      <th>Name</th>\n",
              "      <th>Sex</th>\n",
              "      <th>Age</th>\n",
              "      <th>SibSp</th>\n",
              "      <th>Parch</th>\n",
              "      <th>Ticket</th>\n",
              "      <th>Fare</th>\n",
              "      <th>Cabin</th>\n",
              "      <th>Embarked</th>\n",
              "    </tr>\n",
              "  </thead>\n",
              "  <tbody>\n",
              "    <tr>\n",
              "      <th>count</th>\n",
              "      <td>891.000000</td>\n",
              "      <td>891.000000</td>\n",
              "      <td>891.000000</td>\n",
              "      <td>891</td>\n",
              "      <td>891</td>\n",
              "      <td>714.000000</td>\n",
              "      <td>891.000000</td>\n",
              "      <td>891.000000</td>\n",
              "      <td>891</td>\n",
              "      <td>891.000000</td>\n",
              "      <td>204</td>\n",
              "      <td>889</td>\n",
              "    </tr>\n",
              "    <tr>\n",
              "      <th>unique</th>\n",
              "      <td>NaN</td>\n",
              "      <td>NaN</td>\n",
              "      <td>NaN</td>\n",
              "      <td>891</td>\n",
              "      <td>2</td>\n",
              "      <td>NaN</td>\n",
              "      <td>NaN</td>\n",
              "      <td>NaN</td>\n",
              "      <td>681</td>\n",
              "      <td>NaN</td>\n",
              "      <td>147</td>\n",
              "      <td>3</td>\n",
              "    </tr>\n",
              "    <tr>\n",
              "      <th>top</th>\n",
              "      <td>NaN</td>\n",
              "      <td>NaN</td>\n",
              "      <td>NaN</td>\n",
              "      <td>Dooley, Mr. Patrick</td>\n",
              "      <td>male</td>\n",
              "      <td>NaN</td>\n",
              "      <td>NaN</td>\n",
              "      <td>NaN</td>\n",
              "      <td>347082</td>\n",
              "      <td>NaN</td>\n",
              "      <td>G6</td>\n",
              "      <td>S</td>\n",
              "    </tr>\n",
              "    <tr>\n",
              "      <th>freq</th>\n",
              "      <td>NaN</td>\n",
              "      <td>NaN</td>\n",
              "      <td>NaN</td>\n",
              "      <td>1</td>\n",
              "      <td>577</td>\n",
              "      <td>NaN</td>\n",
              "      <td>NaN</td>\n",
              "      <td>NaN</td>\n",
              "      <td>7</td>\n",
              "      <td>NaN</td>\n",
              "      <td>4</td>\n",
              "      <td>644</td>\n",
              "    </tr>\n",
              "    <tr>\n",
              "      <th>mean</th>\n",
              "      <td>446.000000</td>\n",
              "      <td>0.383838</td>\n",
              "      <td>2.308642</td>\n",
              "      <td>NaN</td>\n",
              "      <td>NaN</td>\n",
              "      <td>29.699118</td>\n",
              "      <td>0.523008</td>\n",
              "      <td>0.381594</td>\n",
              "      <td>NaN</td>\n",
              "      <td>32.204208</td>\n",
              "      <td>NaN</td>\n",
              "      <td>NaN</td>\n",
              "    </tr>\n",
              "    <tr>\n",
              "      <th>std</th>\n",
              "      <td>257.353842</td>\n",
              "      <td>0.486592</td>\n",
              "      <td>0.836071</td>\n",
              "      <td>NaN</td>\n",
              "      <td>NaN</td>\n",
              "      <td>14.526497</td>\n",
              "      <td>1.102743</td>\n",
              "      <td>0.806057</td>\n",
              "      <td>NaN</td>\n",
              "      <td>49.693429</td>\n",
              "      <td>NaN</td>\n",
              "      <td>NaN</td>\n",
              "    </tr>\n",
              "    <tr>\n",
              "      <th>min</th>\n",
              "      <td>1.000000</td>\n",
              "      <td>0.000000</td>\n",
              "      <td>1.000000</td>\n",
              "      <td>NaN</td>\n",
              "      <td>NaN</td>\n",
              "      <td>0.420000</td>\n",
              "      <td>0.000000</td>\n",
              "      <td>0.000000</td>\n",
              "      <td>NaN</td>\n",
              "      <td>0.000000</td>\n",
              "      <td>NaN</td>\n",
              "      <td>NaN</td>\n",
              "    </tr>\n",
              "    <tr>\n",
              "      <th>25%</th>\n",
              "      <td>223.500000</td>\n",
              "      <td>0.000000</td>\n",
              "      <td>2.000000</td>\n",
              "      <td>NaN</td>\n",
              "      <td>NaN</td>\n",
              "      <td>20.125000</td>\n",
              "      <td>0.000000</td>\n",
              "      <td>0.000000</td>\n",
              "      <td>NaN</td>\n",
              "      <td>7.910400</td>\n",
              "      <td>NaN</td>\n",
              "      <td>NaN</td>\n",
              "    </tr>\n",
              "    <tr>\n",
              "      <th>50%</th>\n",
              "      <td>446.000000</td>\n",
              "      <td>0.000000</td>\n",
              "      <td>3.000000</td>\n",
              "      <td>NaN</td>\n",
              "      <td>NaN</td>\n",
              "      <td>28.000000</td>\n",
              "      <td>0.000000</td>\n",
              "      <td>0.000000</td>\n",
              "      <td>NaN</td>\n",
              "      <td>14.454200</td>\n",
              "      <td>NaN</td>\n",
              "      <td>NaN</td>\n",
              "    </tr>\n",
              "    <tr>\n",
              "      <th>75%</th>\n",
              "      <td>668.500000</td>\n",
              "      <td>1.000000</td>\n",
              "      <td>3.000000</td>\n",
              "      <td>NaN</td>\n",
              "      <td>NaN</td>\n",
              "      <td>38.000000</td>\n",
              "      <td>1.000000</td>\n",
              "      <td>0.000000</td>\n",
              "      <td>NaN</td>\n",
              "      <td>31.000000</td>\n",
              "      <td>NaN</td>\n",
              "      <td>NaN</td>\n",
              "    </tr>\n",
              "    <tr>\n",
              "      <th>max</th>\n",
              "      <td>891.000000</td>\n",
              "      <td>1.000000</td>\n",
              "      <td>3.000000</td>\n",
              "      <td>NaN</td>\n",
              "      <td>NaN</td>\n",
              "      <td>80.000000</td>\n",
              "      <td>8.000000</td>\n",
              "      <td>6.000000</td>\n",
              "      <td>NaN</td>\n",
              "      <td>512.329200</td>\n",
              "      <td>NaN</td>\n",
              "      <td>NaN</td>\n",
              "    </tr>\n",
              "  </tbody>\n",
              "</table>\n",
              "</div>\n",
              "    <div class=\"colab-df-buttons\">\n",
              "\n",
              "  <div class=\"colab-df-container\">\n",
              "    <button class=\"colab-df-convert\" onclick=\"convertToInteractive('df-be98cd9b-2efd-475c-8e5d-09f16fc06bf6')\"\n",
              "            title=\"Convert this dataframe to an interactive table.\"\n",
              "            style=\"display:none;\">\n",
              "\n",
              "  <svg xmlns=\"http://www.w3.org/2000/svg\" height=\"24px\" viewBox=\"0 -960 960 960\">\n",
              "    <path d=\"M120-120v-720h720v720H120Zm60-500h600v-160H180v160Zm220 220h160v-160H400v160Zm0 220h160v-160H400v160ZM180-400h160v-160H180v160Zm440 0h160v-160H620v160ZM180-180h160v-160H180v160Zm440 0h160v-160H620v160Z\"/>\n",
              "  </svg>\n",
              "    </button>\n",
              "\n",
              "  <style>\n",
              "    .colab-df-container {\n",
              "      display:flex;\n",
              "      gap: 12px;\n",
              "    }\n",
              "\n",
              "    .colab-df-convert {\n",
              "      background-color: #E8F0FE;\n",
              "      border: none;\n",
              "      border-radius: 50%;\n",
              "      cursor: pointer;\n",
              "      display: none;\n",
              "      fill: #1967D2;\n",
              "      height: 32px;\n",
              "      padding: 0 0 0 0;\n",
              "      width: 32px;\n",
              "    }\n",
              "\n",
              "    .colab-df-convert:hover {\n",
              "      background-color: #E2EBFA;\n",
              "      box-shadow: 0px 1px 2px rgba(60, 64, 67, 0.3), 0px 1px 3px 1px rgba(60, 64, 67, 0.15);\n",
              "      fill: #174EA6;\n",
              "    }\n",
              "\n",
              "    .colab-df-buttons div {\n",
              "      margin-bottom: 4px;\n",
              "    }\n",
              "\n",
              "    [theme=dark] .colab-df-convert {\n",
              "      background-color: #3B4455;\n",
              "      fill: #D2E3FC;\n",
              "    }\n",
              "\n",
              "    [theme=dark] .colab-df-convert:hover {\n",
              "      background-color: #434B5C;\n",
              "      box-shadow: 0px 1px 3px 1px rgba(0, 0, 0, 0.15);\n",
              "      filter: drop-shadow(0px 1px 2px rgba(0, 0, 0, 0.3));\n",
              "      fill: #FFFFFF;\n",
              "    }\n",
              "  </style>\n",
              "\n",
              "    <script>\n",
              "      const buttonEl =\n",
              "        document.querySelector('#df-be98cd9b-2efd-475c-8e5d-09f16fc06bf6 button.colab-df-convert');\n",
              "      buttonEl.style.display =\n",
              "        google.colab.kernel.accessAllowed ? 'block' : 'none';\n",
              "\n",
              "      async function convertToInteractive(key) {\n",
              "        const element = document.querySelector('#df-be98cd9b-2efd-475c-8e5d-09f16fc06bf6');\n",
              "        const dataTable =\n",
              "          await google.colab.kernel.invokeFunction('convertToInteractive',\n",
              "                                                    [key], {});\n",
              "        if (!dataTable) return;\n",
              "\n",
              "        const docLinkHtml = 'Like what you see? Visit the ' +\n",
              "          '<a target=\"_blank\" href=https://colab.research.google.com/notebooks/data_table.ipynb>data table notebook</a>'\n",
              "          + ' to learn more about interactive tables.';\n",
              "        element.innerHTML = '';\n",
              "        dataTable['output_type'] = 'display_data';\n",
              "        await google.colab.output.renderOutput(dataTable, element);\n",
              "        const docLink = document.createElement('div');\n",
              "        docLink.innerHTML = docLinkHtml;\n",
              "        element.appendChild(docLink);\n",
              "      }\n",
              "    </script>\n",
              "  </div>\n",
              "\n",
              "\n",
              "    <div id=\"df-0105fbd3-c21b-40a2-911e-e8c4a4f901b2\">\n",
              "      <button class=\"colab-df-quickchart\" onclick=\"quickchart('df-0105fbd3-c21b-40a2-911e-e8c4a4f901b2')\"\n",
              "                title=\"Suggest charts\"\n",
              "                style=\"display:none;\">\n",
              "\n",
              "<svg xmlns=\"http://www.w3.org/2000/svg\" height=\"24px\"viewBox=\"0 0 24 24\"\n",
              "     width=\"24px\">\n",
              "    <g>\n",
              "        <path d=\"M19 3H5c-1.1 0-2 .9-2 2v14c0 1.1.9 2 2 2h14c1.1 0 2-.9 2-2V5c0-1.1-.9-2-2-2zM9 17H7v-7h2v7zm4 0h-2V7h2v10zm4 0h-2v-4h2v4z\"/>\n",
              "    </g>\n",
              "</svg>\n",
              "      </button>\n",
              "\n",
              "<style>\n",
              "  .colab-df-quickchart {\n",
              "      --bg-color: #E8F0FE;\n",
              "      --fill-color: #1967D2;\n",
              "      --hover-bg-color: #E2EBFA;\n",
              "      --hover-fill-color: #174EA6;\n",
              "      --disabled-fill-color: #AAA;\n",
              "      --disabled-bg-color: #DDD;\n",
              "  }\n",
              "\n",
              "  [theme=dark] .colab-df-quickchart {\n",
              "      --bg-color: #3B4455;\n",
              "      --fill-color: #D2E3FC;\n",
              "      --hover-bg-color: #434B5C;\n",
              "      --hover-fill-color: #FFFFFF;\n",
              "      --disabled-bg-color: #3B4455;\n",
              "      --disabled-fill-color: #666;\n",
              "  }\n",
              "\n",
              "  .colab-df-quickchart {\n",
              "    background-color: var(--bg-color);\n",
              "    border: none;\n",
              "    border-radius: 50%;\n",
              "    cursor: pointer;\n",
              "    display: none;\n",
              "    fill: var(--fill-color);\n",
              "    height: 32px;\n",
              "    padding: 0;\n",
              "    width: 32px;\n",
              "  }\n",
              "\n",
              "  .colab-df-quickchart:hover {\n",
              "    background-color: var(--hover-bg-color);\n",
              "    box-shadow: 0 1px 2px rgba(60, 64, 67, 0.3), 0 1px 3px 1px rgba(60, 64, 67, 0.15);\n",
              "    fill: var(--button-hover-fill-color);\n",
              "  }\n",
              "\n",
              "  .colab-df-quickchart-complete:disabled,\n",
              "  .colab-df-quickchart-complete:disabled:hover {\n",
              "    background-color: var(--disabled-bg-color);\n",
              "    fill: var(--disabled-fill-color);\n",
              "    box-shadow: none;\n",
              "  }\n",
              "\n",
              "  .colab-df-spinner {\n",
              "    border: 2px solid var(--fill-color);\n",
              "    border-color: transparent;\n",
              "    border-bottom-color: var(--fill-color);\n",
              "    animation:\n",
              "      spin 1s steps(1) infinite;\n",
              "  }\n",
              "\n",
              "  @keyframes spin {\n",
              "    0% {\n",
              "      border-color: transparent;\n",
              "      border-bottom-color: var(--fill-color);\n",
              "      border-left-color: var(--fill-color);\n",
              "    }\n",
              "    20% {\n",
              "      border-color: transparent;\n",
              "      border-left-color: var(--fill-color);\n",
              "      border-top-color: var(--fill-color);\n",
              "    }\n",
              "    30% {\n",
              "      border-color: transparent;\n",
              "      border-left-color: var(--fill-color);\n",
              "      border-top-color: var(--fill-color);\n",
              "      border-right-color: var(--fill-color);\n",
              "    }\n",
              "    40% {\n",
              "      border-color: transparent;\n",
              "      border-right-color: var(--fill-color);\n",
              "      border-top-color: var(--fill-color);\n",
              "    }\n",
              "    60% {\n",
              "      border-color: transparent;\n",
              "      border-right-color: var(--fill-color);\n",
              "    }\n",
              "    80% {\n",
              "      border-color: transparent;\n",
              "      border-right-color: var(--fill-color);\n",
              "      border-bottom-color: var(--fill-color);\n",
              "    }\n",
              "    90% {\n",
              "      border-color: transparent;\n",
              "      border-bottom-color: var(--fill-color);\n",
              "    }\n",
              "  }\n",
              "</style>\n",
              "\n",
              "      <script>\n",
              "        async function quickchart(key) {\n",
              "          const quickchartButtonEl =\n",
              "            document.querySelector('#' + key + ' button');\n",
              "          quickchartButtonEl.disabled = true;  // To prevent multiple clicks.\n",
              "          quickchartButtonEl.classList.add('colab-df-spinner');\n",
              "          try {\n",
              "            const charts = await google.colab.kernel.invokeFunction(\n",
              "                'suggestCharts', [key], {});\n",
              "          } catch (error) {\n",
              "            console.error('Error during call to suggestCharts:', error);\n",
              "          }\n",
              "          quickchartButtonEl.classList.remove('colab-df-spinner');\n",
              "          quickchartButtonEl.classList.add('colab-df-quickchart-complete');\n",
              "        }\n",
              "        (() => {\n",
              "          let quickchartButtonEl =\n",
              "            document.querySelector('#df-0105fbd3-c21b-40a2-911e-e8c4a4f901b2 button');\n",
              "          quickchartButtonEl.style.display =\n",
              "            google.colab.kernel.accessAllowed ? 'block' : 'none';\n",
              "        })();\n",
              "      </script>\n",
              "    </div>\n",
              "\n",
              "    </div>\n",
              "  </div>\n"
            ],
            "application/vnd.google.colaboratory.intrinsic+json": {
              "type": "dataframe",
              "summary": "{\n  \"name\": \"train\",\n  \"rows\": 11,\n  \"fields\": [\n    {\n      \"column\": \"PassengerId\",\n      \"properties\": {\n        \"dtype\": \"number\",\n        \"std\": 320.8159711429856,\n        \"min\": 1.0,\n        \"max\": 891.0,\n        \"num_unique_values\": 6,\n        \"samples\": [\n          891.0,\n          446.0,\n          668.5\n        ],\n        \"semantic_type\": \"\",\n        \"description\": \"\"\n      }\n    },\n    {\n      \"column\": \"Survived\",\n      \"properties\": {\n        \"dtype\": \"number\",\n        \"std\": 314.8713661874558,\n        \"min\": 0.0,\n        \"max\": 891.0,\n        \"num_unique_values\": 5,\n        \"samples\": [\n          0.3838383838383838,\n          1.0,\n          0.4865924542648585\n        ],\n        \"semantic_type\": \"\",\n        \"description\": \"\"\n      }\n    },\n    {\n      \"column\": \"Pclass\",\n      \"properties\": {\n        \"dtype\": \"number\",\n        \"std\": 314.2523437079693,\n        \"min\": 0.8360712409770513,\n        \"max\": 891.0,\n        \"num_unique_values\": 6,\n        \"samples\": [\n          891.0,\n          2.308641975308642,\n          3.0\n        ],\n        \"semantic_type\": \"\",\n        \"description\": \"\"\n      }\n    },\n    {\n      \"column\": \"Name\",\n      \"properties\": {\n        \"dtype\": \"category\",\n        \"num_unique_values\": 3,\n        \"samples\": [\n          \"891\",\n          \"Dooley, Mr. Patrick\",\n          \"1\"\n        ],\n        \"semantic_type\": \"\",\n        \"description\": \"\"\n      }\n    },\n    {\n      \"column\": \"Sex\",\n      \"properties\": {\n        \"dtype\": \"category\",\n        \"num_unique_values\": 4,\n        \"samples\": [\n          2,\n          \"577\",\n          \"891\"\n        ],\n        \"semantic_type\": \"\",\n        \"description\": \"\"\n      }\n    },\n    {\n      \"column\": \"Age\",\n      \"properties\": {\n        \"dtype\": \"number\",\n        \"std\": 242.9056731818781,\n        \"min\": 0.42,\n        \"max\": 714.0,\n        \"num_unique_values\": 8,\n        \"samples\": [\n          29.69911764705882,\n          28.0,\n          714.0\n        ],\n        \"semantic_type\": \"\",\n        \"description\": \"\"\n      }\n    },\n    {\n      \"column\": \"SibSp\",\n      \"properties\": {\n        \"dtype\": \"number\",\n        \"std\": 314.4908277465442,\n        \"min\": 0.0,\n        \"max\": 891.0,\n        \"num_unique_values\": 6,\n        \"samples\": [\n          891.0,\n          0.5230078563411896,\n          8.0\n        ],\n        \"semantic_type\": \"\",\n        \"description\": \"\"\n      }\n    },\n    {\n      \"column\": \"Parch\",\n      \"properties\": {\n        \"dtype\": \"number\",\n        \"std\": 314.65971717879,\n        \"min\": 0.0,\n        \"max\": 891.0,\n        \"num_unique_values\": 5,\n        \"samples\": [\n          0.38159371492704824,\n          6.0,\n          0.8060572211299559\n        ],\n        \"semantic_type\": \"\",\n        \"description\": \"\"\n      }\n    },\n    {\n      \"column\": \"Ticket\",\n      \"properties\": {\n        \"dtype\": \"category\",\n        \"num_unique_values\": 4,\n        \"samples\": [\n          681,\n          \"7\",\n          \"891\"\n        ],\n        \"semantic_type\": \"\",\n        \"description\": \"\"\n      }\n    },\n    {\n      \"column\": \"Fare\",\n      \"properties\": {\n        \"dtype\": \"number\",\n        \"std\": 330.6256632228577,\n        \"min\": 0.0,\n        \"max\": 891.0,\n        \"num_unique_values\": 8,\n        \"samples\": [\n          32.204207968574636,\n          14.4542,\n          891.0\n        ],\n        \"semantic_type\": \"\",\n        \"description\": \"\"\n      }\n    },\n    {\n      \"column\": \"Cabin\",\n      \"properties\": {\n        \"dtype\": \"category\",\n        \"num_unique_values\": 4,\n        \"samples\": [\n          147,\n          \"4\",\n          \"204\"\n        ],\n        \"semantic_type\": \"\",\n        \"description\": \"\"\n      }\n    },\n    {\n      \"column\": \"Embarked\",\n      \"properties\": {\n        \"dtype\": \"category\",\n        \"num_unique_values\": 4,\n        \"samples\": [\n          3,\n          \"644\",\n          \"889\"\n        ],\n        \"semantic_type\": \"\",\n        \"description\": \"\"\n      }\n    }\n  ]\n}"
            }
          },
          "metadata": {},
          "execution_count": 3
        }
      ]
    },
    {
      "cell_type": "markdown",
      "source": [
        "**1.2 檢查缺值以百分比形式表示**\n",
        "*   Cabin = 77.1% (丟棄)\n",
        "*   Age = 19.9%\n",
        "*   Embarked = 0.2%"
      ],
      "metadata": {
        "id": "sFF-mOPs0a-f"
      }
    },
    {
      "cell_type": "code",
      "source": [
        "def missing_ratio(df):\n",
        "  return (df.isna().mean()*100).round(1).sort_values(ascending = False)\n",
        "\n",
        "missing_ratio(train)"
      ],
      "metadata": {
        "colab": {
          "base_uri": "https://localhost:8080/",
          "height": 460
        },
        "id": "-0H3N3bstPTK",
        "outputId": "d487523a-6cba-4c05-a92f-0b43e212a612"
      },
      "execution_count": 4,
      "outputs": [
        {
          "output_type": "execute_result",
          "data": {
            "text/plain": [
              "Cabin          77.1\n",
              "Age            19.9\n",
              "Embarked        0.2\n",
              "PassengerId     0.0\n",
              "Name            0.0\n",
              "Pclass          0.0\n",
              "Survived        0.0\n",
              "Sex             0.0\n",
              "Parch           0.0\n",
              "SibSp           0.0\n",
              "Fare            0.0\n",
              "Ticket          0.0\n",
              "dtype: float64"
            ],
            "text/html": [
              "<div>\n",
              "<style scoped>\n",
              "    .dataframe tbody tr th:only-of-type {\n",
              "        vertical-align: middle;\n",
              "    }\n",
              "\n",
              "    .dataframe tbody tr th {\n",
              "        vertical-align: top;\n",
              "    }\n",
              "\n",
              "    .dataframe thead th {\n",
              "        text-align: right;\n",
              "    }\n",
              "</style>\n",
              "<table border=\"1\" class=\"dataframe\">\n",
              "  <thead>\n",
              "    <tr style=\"text-align: right;\">\n",
              "      <th></th>\n",
              "      <th>0</th>\n",
              "    </tr>\n",
              "  </thead>\n",
              "  <tbody>\n",
              "    <tr>\n",
              "      <th>Cabin</th>\n",
              "      <td>77.1</td>\n",
              "    </tr>\n",
              "    <tr>\n",
              "      <th>Age</th>\n",
              "      <td>19.9</td>\n",
              "    </tr>\n",
              "    <tr>\n",
              "      <th>Embarked</th>\n",
              "      <td>0.2</td>\n",
              "    </tr>\n",
              "    <tr>\n",
              "      <th>PassengerId</th>\n",
              "      <td>0.0</td>\n",
              "    </tr>\n",
              "    <tr>\n",
              "      <th>Name</th>\n",
              "      <td>0.0</td>\n",
              "    </tr>\n",
              "    <tr>\n",
              "      <th>Pclass</th>\n",
              "      <td>0.0</td>\n",
              "    </tr>\n",
              "    <tr>\n",
              "      <th>Survived</th>\n",
              "      <td>0.0</td>\n",
              "    </tr>\n",
              "    <tr>\n",
              "      <th>Sex</th>\n",
              "      <td>0.0</td>\n",
              "    </tr>\n",
              "    <tr>\n",
              "      <th>Parch</th>\n",
              "      <td>0.0</td>\n",
              "    </tr>\n",
              "    <tr>\n",
              "      <th>SibSp</th>\n",
              "      <td>0.0</td>\n",
              "    </tr>\n",
              "    <tr>\n",
              "      <th>Fare</th>\n",
              "      <td>0.0</td>\n",
              "    </tr>\n",
              "    <tr>\n",
              "      <th>Ticket</th>\n",
              "      <td>0.0</td>\n",
              "    </tr>\n",
              "  </tbody>\n",
              "</table>\n",
              "</div><br><label><b>dtype:</b> float64</label>"
            ]
          },
          "metadata": {},
          "execution_count": 4
        }
      ]
    },
    {
      "cell_type": "markdown",
      "source": [
        "**1.3 數值分布**\n",
        "*   Fare分布偏右尾，需做log-transform"
      ],
      "metadata": {
        "id": "GiRcnzw0K6hU"
      }
    },
    {
      "cell_type": "code",
      "source": [
        "numeric_cols = ['Age', 'Fare' , 'SibSp', 'Parch'] #numeric_cols 自訂變數名\n",
        "train[numeric_cols].describe().T #Tanspose 行列對調\n",
        "\n",
        "#畫圖:\n",
        "import matplotlib.pyplot as plt #Python 畫圖工具箱\n",
        "train['Fare'].hist(bins = 40) #用直方圖觀察單欄位分布\n",
        "plt.title('Fare Distribution')\n",
        "plt.xlabel('Fare')\n",
        "plt.ylabel('count')\n",
        "plt.show()"
      ],
      "metadata": {
        "id": "6hxExKcx1cQC",
        "colab": {
          "base_uri": "https://localhost:8080/",
          "height": 472
        },
        "outputId": "a9a4fba7-de29-40dc-88d1-41b7c85c9281"
      },
      "execution_count": 5,
      "outputs": [
        {
          "output_type": "display_data",
          "data": {
            "text/plain": [
              "<Figure size 640x480 with 1 Axes>"
            ],
            "image/png": "[encoded data removed]"
          },
          "metadata": {}
        }
      ]
    },
    {
      "cell_type": "markdown",
      "source": [
        "**1.4 類別分布**\n",
        "*   男:65%，女:35%\n",
        "*   S港口:72%，C港口:19%，Q港口:9%\n",
        "*   三等艙:55%，二等艙:24%，一等艙:21%"
      ],
      "metadata": {
        "id": "77POrlVfV7ZX"
      }
    },
    {
      "cell_type": "code",
      "source": [
        "categorical_cols = ['Sex', 'Embarked', 'Pclass'] #categorical_cols 自訂變數名\n",
        "for col in categorical_cols: #for迴圈跑list\n",
        "  print((train[col].value_counts(normalize = True)*100).round(1)) #計算每個類別值出現次數，並將轉換成比例形式\n",
        "  print('---')"
      ],
      "metadata": {
        "id": "7jEM7GCtU_NP",
        "colab": {
          "base_uri": "https://localhost:8080/"
        },
        "outputId": "e76f6b63-c314-4fa0-d3db-be947365388b"
      },
      "execution_count": 6,
      "outputs": [
        {
          "output_type": "stream",
          "name": "stdout",
          "text": [
            "Sex\n",
            "male      64.8\n",
            "female    35.2\n",
            "Name: proportion, dtype: float64\n",
            "---\n",
            "Embarked\n",
            "S    72.4\n",
            "C    18.9\n",
            "Q     8.7\n",
            "Name: proportion, dtype: float64\n",
            "---\n",
            "Pclass\n",
            "3    55.1\n",
            "1    24.2\n",
            "2    20.7\n",
            "Name: proportion, dtype: float64\n",
            "---\n"
          ]
        }
      ]
    },
    {
      "cell_type": "markdown",
      "source": [
        "**1.5 生存率與特徵關係**\n",
        "*   女性生存率74% > 男性19%\n",
        "*   艙等生存率:一等艙63% > 二等艙47% > 三等艙24%\n",
        "*   女性存活率高、頭等艙存活率高"
      ],
      "metadata": {
        "id": "EcO4EYcEZcHR"
      }
    },
    {
      "cell_type": "code",
      "source": [
        "#性別 vs 生存率\n",
        "print(train.groupby('Sex')['Survived'].mean())\n",
        "\n",
        "#艙等 vs 生存率\n",
        "print(train.groupby('Pclass')['Survived'].mean())\n",
        "\n",
        "#Embarked + Sex 交叉\n",
        "pd.crosstab(train['Embarked'],\n",
        "            train['Sex'],\n",
        "            values = train['Survived'],\n",
        "            aggfunc = 'mean')"
      ],
      "metadata": {
        "id": "Vg3t4OK5ZbYz",
        "colab": {
          "base_uri": "https://localhost:8080/",
          "height": 336
        },
        "outputId": "b4b389da-c687-4a19-f224-310cbcbb85d7"
      },
      "execution_count": 7,
      "outputs": [
        {
          "output_type": "stream",
          "name": "stdout",
          "text": [
            "Sex\n",
            "female    0.742038\n",
            "male      0.188908\n",
            "Name: Survived, dtype: float64\n",
            "Pclass\n",
            "1    0.629630\n",
            "2    0.472826\n",
            "3    0.242363\n",
            "Name: Survived, dtype: float64\n"
          ]
        },
        {
          "output_type": "execute_result",
          "data": {
            "text/plain": [
              "Sex         female      male\n",
              "Embarked                    \n",
              "C         0.876712  0.305263\n",
              "Q         0.750000  0.073171\n",
              "S         0.689655  0.174603"
            ],
            "text/html": [
              "\n",
              "  <div id=\"df-bca0f180-8410-4b60-a39f-6e9b8b3a69ef\" class=\"colab-df-container\">\n",
              "    <div>\n",
              "<style scoped>\n",
              "    .dataframe tbody tr th:only-of-type {\n",
              "        vertical-align: middle;\n",
              "    }\n",
              "\n",
              "    .dataframe tbody tr th {\n",
              "        vertical-align: top;\n",
              "    }\n",
              "\n",
              "    .dataframe thead th {\n",
              "        text-align: right;\n",
              "    }\n",
              "</style>\n",
              "<table border=\"1\" class=\"dataframe\">\n",
              "  <thead>\n",
              "    <tr style=\"text-align: right;\">\n",
              "      <th>Sex</th>\n",
              "      <th>female</th>\n",
              "      <th>male</th>\n",
              "    </tr>\n",
              "    <tr>\n",
              "      <th>Embarked</th>\n",
              "      <th></th>\n",
              "      <th></th>\n",
              "    </tr>\n",
              "  </thead>\n",
              "  <tbody>\n",
              "    <tr>\n",
              "      <th>C</th>\n",
              "      <td>0.876712</td>\n",
              "      <td>0.305263</td>\n",
              "    </tr>\n",
              "    <tr>\n",
              "      <th>Q</th>\n",
              "      <td>0.750000</td>\n",
              "      <td>0.073171</td>\n",
              "    </tr>\n",
              "    <tr>\n",
              "      <th>S</th>\n",
              "      <td>0.689655</td>\n",
              "      <td>0.174603</td>\n",
              "    </tr>\n",
              "  </tbody>\n",
              "</table>\n",
              "</div>\n",
              "    <div class=\"colab-df-buttons\">\n",
              "\n",
              "  <div class=\"colab-df-container\">\n",
              "    <button class=\"colab-df-convert\" onclick=\"convertToInteractive('df-bca0f180-8410-4b60-a39f-6e9b8b3a69ef')\"\n",
              "            title=\"Convert this dataframe to an interactive table.\"\n",
              "            style=\"display:none;\">\n",
              "\n",
              "  <svg xmlns=\"http://www.w3.org/2000/svg\" height=\"24px\" viewBox=\"0 -960 960 960\">\n",
              "    <path d=\"M120-120v-720h720v720H120Zm60-500h600v-160H180v160Zm220 220h160v-160H400v160Zm0 220h160v-160H400v160ZM180-400h160v-160H180v160Zm440 0h160v-160H620v160ZM180-180h160v-160H180v160Zm440 0h160v-160H620v160Z\"/>\n",
              "  </svg>\n",
              "    </button>\n",
              "\n",
              "  <style>\n",
              "    .colab-df-container {\n",
              "      display:flex;\n",
              "      gap: 12px;\n",
              "    }\n",
              "\n",
              "    .colab-df-convert {\n",
              "      background-color: #E8F0FE;\n",
              "      border: none;\n",
              "      border-radius: 50%;\n",
              "      cursor: pointer;\n",
              "      display: none;\n",
              "      fill: #1967D2;\n",
              "      height: 32px;\n",
              "      padding: 0 0 0 0;\n",
              "      width: 32px;\n",
              "    }\n",
              "\n",
              "    .colab-df-convert:hover {\n",
              "      background-color: #E2EBFA;\n",
              "      box-shadow: 0px 1px 2px rgba(60, 64, 67, 0.3), 0px 1px 3px 1px rgba(60, 64, 67, 0.15);\n",
              "      fill: #174EA6;\n",
              "    }\n",
              "\n",
              "    .colab-df-buttons div {\n",
              "      margin-bottom: 4px;\n",
              "    }\n",
              "\n",
              "    [theme=dark] .colab-df-convert {\n",
              "      background-color: #3B4455;\n",
              "      fill: #D2E3FC;\n",
              "    }\n",
              "\n",
              "    [theme=dark] .colab-df-convert:hover {\n",
              "      background-color: #434B5C;\n",
              "      box-shadow: 0px 1px 3px 1px rgba(0, 0, 0, 0.15);\n",
              "      filter: drop-shadow(0px 1px 2px rgba(0, 0, 0, 0.3));\n",
              "      fill: #FFFFFF;\n",
              "    }\n",
              "  </style>\n",
              "\n",
              "    <script>\n",
              "      const buttonEl =\n",
              "        document.querySelector('#df-bca0f180-8410-4b60-a39f-6e9b8b3a69ef button.colab-df-convert');\n",
              "      buttonEl.style.display =\n",
              "        google.colab.kernel.accessAllowed ? 'block' : 'none';\n",
              "\n",
              "      async function convertToInteractive(key) {\n",
              "        const element = document.querySelector('#df-bca0f180-8410-4b60-a39f-6e9b8b3a69ef');\n",
              "        const dataTable =\n",
              "          await google.colab.kernel.invokeFunction('convertToInteractive',\n",
              "                                                    [key], {});\n",
              "        if (!dataTable) return;\n",
              "\n",
              "        const docLinkHtml = 'Like what you see? Visit the ' +\n",
              "          '<a target=\"_blank\" href=https://colab.research.google.com/notebooks/data_table.ipynb>data table notebook</a>'\n",
              "          + ' to learn more about interactive tables.';\n",
              "        element.innerHTML = '';\n",
              "        dataTable['output_type'] = 'display_data';\n",
              "        await google.colab.output.renderOutput(dataTable, element);\n",
              "        const docLink = document.createElement('div');\n",
              "        docLink.innerHTML = docLinkHtml;\n",
              "        element.appendChild(docLink);\n",
              "      }\n",
              "    </script>\n",
              "  </div>\n",
              "\n",
              "\n",
              "    <div id=\"df-5ce4d0d4-8cfb-46f6-b867-8aa67ef1d245\">\n",
              "      <button class=\"colab-df-quickchart\" onclick=\"quickchart('df-5ce4d0d4-8cfb-46f6-b867-8aa67ef1d245')\"\n",
              "                title=\"Suggest charts\"\n",
              "                style=\"display:none;\">\n",
              "\n",
              "<svg xmlns=\"http://www.w3.org/2000/svg\" height=\"24px\"viewBox=\"0 0 24 24\"\n",
              "     width=\"24px\">\n",
              "    <g>\n",
              "        <path d=\"M19 3H5c-1.1 0-2 .9-2 2v14c0 1.1.9 2 2 2h14c1.1 0 2-.9 2-2V5c0-1.1-.9-2-2-2zM9 17H7v-7h2v7zm4 0h-2V7h2v10zm4 0h-2v-4h2v4z\"/>\n",
              "    </g>\n",
              "</svg>\n",
              "      </button>\n",
              "\n",
              "<style>\n",
              "  .colab-df-quickchart {\n",
              "      --bg-color: #E8F0FE;\n",
              "      --fill-color: #1967D2;\n",
              "      --hover-bg-color: #E2EBFA;\n",
              "      --hover-fill-color: #174EA6;\n",
              "      --disabled-fill-color: #AAA;\n",
              "      --disabled-bg-color: #DDD;\n",
              "  }\n",
              "\n",
              "  [theme=dark] .colab-df-quickchart {\n",
              "      --bg-color: #3B4455;\n",
              "      --fill-color: #D2E3FC;\n",
              "      --hover-bg-color: #434B5C;\n",
              "      --hover-fill-color: #FFFFFF;\n",
              "      --disabled-bg-color: #3B4455;\n",
              "      --disabled-fill-color: #666;\n",
              "  }\n",
              "\n",
              "  .colab-df-quickchart {\n",
              "    background-color: var(--bg-color);\n",
              "    border: none;\n",
              "    border-radius: 50%;\n",
              "    cursor: pointer;\n",
              "    display: none;\n",
              "    fill: var(--fill-color);\n",
              "    height: 32px;\n",
              "    padding: 0;\n",
              "    width: 32px;\n",
              "  }\n",
              "\n",
              "  .colab-df-quickchart:hover {\n",
              "    background-color: var(--hover-bg-color);\n",
              "    box-shadow: 0 1px 2px rgba(60, 64, 67, 0.3), 0 1px 3px 1px rgba(60, 64, 67, 0.15);\n",
              "    fill: var(--button-hover-fill-color);\n",
              "  }\n",
              "\n",
              "  .colab-df-quickchart-complete:disabled,\n",
              "  .colab-df-quickchart-complete:disabled:hover {\n",
              "    background-color: var(--disabled-bg-color);\n",
              "    fill: var(--disabled-fill-color);\n",
              "    box-shadow: none;\n",
              "  }\n",
              "\n",
              "  .colab-df-spinner {\n",
              "    border: 2px solid var(--fill-color);\n",
              "    border-color: transparent;\n",
              "    border-bottom-color: var(--fill-color);\n",
              "    animation:\n",
              "      spin 1s steps(1) infinite;\n",
              "  }\n",
              "\n",
              "  @keyframes spin {\n",
              "    0% {\n",
              "      border-color: transparent;\n",
              "      border-bottom-color: var(--fill-color);\n",
              "      border-left-color: var(--fill-color);\n",
              "    }\n",
              "    20% {\n",
              "      border-color: transparent;\n",
              "      border-left-color: var(--fill-color);\n",
              "      border-top-color: var(--fill-color);\n",
              "    }\n",
              "    30% {\n",
              "      border-color: transparent;\n",
              "      border-left-color: var(--fill-color);\n",
              "      border-top-color: var(--fill-color);\n",
              "      border-right-color: var(--fill-color);\n",
              "    }\n",
              "    40% {\n",
              "      border-color: transparent;\n",
              "      border-right-color: var(--fill-color);\n",
              "      border-top-color: var(--fill-color);\n",
              "    }\n",
              "    60% {\n",
              "      border-color: transparent;\n",
              "      border-right-color: var(--fill-color);\n",
              "    }\n",
              "    80% {\n",
              "      border-color: transparent;\n",
              "      border-right-color: var(--fill-color);\n",
              "      border-bottom-color: var(--fill-color);\n",
              "    }\n",
              "    90% {\n",
              "      border-color: transparent;\n",
              "      border-bottom-color: var(--fill-color);\n",
              "    }\n",
              "  }\n",
              "</style>\n",
              "\n",
              "      <script>\n",
              "        async function quickchart(key) {\n",
              "          const quickchartButtonEl =\n",
              "            document.querySelector('#' + key + ' button');\n",
              "          quickchartButtonEl.disabled = true;  // To prevent multiple clicks.\n",
              "          quickchartButtonEl.classList.add('colab-df-spinner');\n",
              "          try {\n",
              "            const charts = await google.colab.kernel.invokeFunction(\n",
              "                'suggestCharts', [key], {});\n",
              "          } catch (error) {\n",
              "            console.error('Error during call to suggestCharts:', error);\n",
              "          }\n",
              "          quickchartButtonEl.classList.remove('colab-df-spinner');\n",
              "          quickchartButtonEl.classList.add('colab-df-quickchart-complete');\n",
              "        }\n",
              "        (() => {\n",
              "          let quickchartButtonEl =\n",
              "            document.querySelector('#df-5ce4d0d4-8cfb-46f6-b867-8aa67ef1d245 button');\n",
              "          quickchartButtonEl.style.display =\n",
              "            google.colab.kernel.accessAllowed ? 'block' : 'none';\n",
              "        })();\n",
              "      </script>\n",
              "    </div>\n",
              "\n",
              "    </div>\n",
              "  </div>\n"
            ],
            "application/vnd.google.colaboratory.intrinsic+json": {
              "type": "dataframe",
              "summary": "{\n  \"name\": \"            aggfunc = 'mean')\",\n  \"rows\": 3,\n  \"fields\": [\n    {\n      \"column\": \"Embarked\",\n      \"properties\": {\n        \"dtype\": \"string\",\n        \"num_unique_values\": 3,\n        \"samples\": [\n          \"C\",\n          \"Q\",\n          \"S\"\n        ],\n        \"semantic_type\": \"\",\n        \"description\": \"\"\n      }\n    },\n    {\n      \"column\": \"female\",\n      \"properties\": {\n        \"dtype\": \"number\",\n        \"std\": 0.09547066933618124,\n        \"min\": 0.6896551724137931,\n        \"max\": 0.8767123287671232,\n        \"num_unique_values\": 3,\n        \"samples\": [\n          0.8767123287671232,\n          0.75,\n          0.6896551724137931\n        ],\n        \"semantic_type\": \"\",\n        \"description\": \"\"\n      }\n    },\n    {\n      \"column\": \"male\",\n      \"properties\": {\n        \"dtype\": \"number\",\n        \"std\": 0.11635252897920155,\n        \"min\": 0.07317073170731707,\n        \"max\": 0.30526315789473685,\n        \"num_unique_values\": 3,\n        \"samples\": [\n          0.30526315789473685,\n          0.07317073170731707,\n          0.1746031746031746\n        ],\n        \"semantic_type\": \"\",\n        \"description\": \"\"\n      }\n    }\n  ]\n}"
            }
          },
          "metadata": {},
          "execution_count": 7
        }
      ]
    },
    {
      "cell_type": "markdown",
      "source": [
        "**2.1 特徵工程 -> 建立Baseline模型**\n",
        "決定保留丟棄哪些欄位?"
      ],
      "metadata": {
        "id": "u0hhU1j_fMTr"
      }
    },
    {
      "cell_type": "code",
      "source": [
        "cols_drop = ['Cabin', 'Ticket', 'Name']\n",
        "train = train.drop(columns = cols_drop)\n",
        "test = test.drop(columns = cols_drop)"
      ],
      "metadata": {
        "id": "JlgeRH68fLXz"
      },
      "execution_count": 8,
      "outputs": []
    },
    {
      "cell_type": "markdown",
      "source": [
        "**2.2 建立特徵**\n",
        "*   同艙親友人數\n",
        "*   獨自一人"
      ],
      "metadata": {
        "id": "fd_YrHAGj0C7"
      }
    },
    {
      "cell_type": "code",
      "source": [
        "for df in [train, test]:\n",
        "    df['FamilySize'] = df['SibSp'] + df['Parch'] + 1\n",
        "    df['IsAlone'] = (df['FamilySize'] == 1).astype(int)"
      ],
      "metadata": {
        "id": "02G2v1h6jzhF"
      },
      "execution_count": 9,
      "outputs": []
    },
    {
      "cell_type": "markdown",
      "source": [
        "**2.3 缺值填補與 One-Hot Encoding**"
      ],
      "metadata": {
        "id": "e5R2ZKZDlFkk"
      }
    },
    {
      "cell_type": "code",
      "source": [
        "from sklearn.compose import ColumnTransformer\n",
        "from sklearn.pipeline import Pipeline\n",
        "from sklearn.impute import SimpleImputer\n",
        "from sklearn.preprocessing import OneHotEncoder\n",
        "\n",
        "numeric_feats = ['Age', 'Fare', 'Pclass', 'SibSp', 'Parch', 'FamilySize'] #數值型\n",
        "categorical_feats = ['Sex', 'Embarked', 'IsAlone'] #字串或類別型\n",
        "\n",
        "numeric_transformer = SimpleImputer(strategy = 'median') #用中位數補缺值\n",
        "categorical_transformer = Pipeline([\n",
        "    ('imputer', SimpleImputer(strategy = 'most_frequent')), #用最常見的補Embarked\n",
        "    ('onehot', OneHotEncoder(handle_unknown = 'ignore'))\n",
        "]) #測試集若出現訓練集沒見過的類別（罕見值），直接全部 0，不報錯\n",
        "\n",
        "preprocess = ColumnTransformer(transformers = [\n",
        "    ('num', numeric_transformer, numeric_feats),\n",
        "    ('cat', categorical_transformer, categorical_feats)\n",
        "])"
      ],
      "metadata": {
        "id": "jcop4ht7lGi4"
      },
      "execution_count": 10,
      "outputs": []
    },
    {
      "cell_type": "markdown",
      "source": [
        "**2.4 建立 Logistic Regression 基準模型**"
      ],
      "metadata": {
        "id": "lNiASmCewERR"
      }
    },
    {
      "cell_type": "code",
      "source": [
        "from sklearn.linear_model import LogisticRegression #邏輯斯迴歸分類器\n",
        "#資料分成「訓練集」與「驗證集」 #做 k-fold 交叉驗證，量測模型穩定度\n",
        "from sklearn.model_selection import train_test_split, cross_val_score\n",
        "from sklearn.metrics import accuracy_score #計算預測結果有多少百分比正確\n",
        "\n",
        "X = train.drop(columns=['Survived'])\n",
        "y = train['Survived']\n",
        "\n",
        "X_train, X_valid, y_train, y_valid = train_test_split(\n",
        "    X, y, test_size=0.2, random_state=42, stratify=y)\n",
        "\n",
        "#建立 sklearn Pipeline\n",
        "baseline = Pipeline([\n",
        "    ('pre', preprocess),\n",
        "    ('clf', LogisticRegression(max_iter=1000))\n",
        "])\n",
        "\n",
        "#訓練與預測\n",
        "baseline.fit(X_train, y_train)\n",
        "preds = baseline.predict(X_valid)\n",
        "\n",
        "#算出正確率\n",
        "print(\"Validation accuracy:\", accuracy_score(y_valid, preds))\n"
      ],
      "metadata": {
        "id": "xcGV-Ui9yid_",
        "colab": {
          "base_uri": "https://localhost:8080/"
        },
        "outputId": "e23053ba-9da0-4793-966b-9c71e9bd371d"
      },
      "execution_count": 11,
      "outputs": [
        {
          "output_type": "stream",
          "name": "stdout",
          "text": [
            "Validation accuracy: 0.8044692737430168\n"
          ]
        }
      ]
    },
    {
      "cell_type": "markdown",
      "source": [
        "**2.5 用 5-Fold Cross-Validation 再確認**"
      ],
      "metadata": {
        "id": "4-L3apQ9wpm4"
      }
    },
    {
      "cell_type": "code",
      "source": [
        "cv_scores = cross_val_score(baseline, X, y, cv=5, scoring='accuracy')\n",
        "print(\"CV mean:\", cv_scores.mean(), \"std:\", cv_scores.std())"
      ],
      "metadata": {
        "colab": {
          "base_uri": "https://localhost:8080/"
        },
        "id": "G8EKrF-IwfKW",
        "outputId": "332d9524-616c-4afc-9b73-154ccf99d667"
      },
      "execution_count": 12,
      "outputs": [
        {
          "output_type": "stream",
          "name": "stdout",
          "text": [
            "CV mean: 0.7901450003138535 std: 0.022970976403544067\n"
          ]
        }
      ]
    },
    {
      "cell_type": "markdown",
      "source": [
        "**2.6 Random Forest模型**"
      ],
      "metadata": {
        "id": "Ai95VWjtyOxP"
      }
    },
    {
      "cell_type": "code",
      "source": [
        "from sklearn.ensemble import RandomForestClassifier\n",
        "from sklearn.model_selection import RandomizedSearchCV, cross_val_score\n",
        "\n",
        "rf = RandomForestClassifier(\n",
        "    n_estimators=400,     # 樹數量\n",
        "    max_depth=None,       # 先不限制深度\n",
        "    min_samples_split=2,\n",
        "    min_samples_leaf=1,\n",
        "    random_state=42,\n",
        "    n_jobs=-1\n",
        ")\n",
        "\n",
        "model_rf = Pipeline([\n",
        "    ('pre', preprocess),\n",
        "    ('clf', rf)\n",
        "])\n",
        "\n",
        "# 交叉驗證看看\n",
        "cv = cross_val_score(model_rf, X, y, cv=5, scoring='accuracy', n_jobs=-1)\n",
        "print(\"RF CV mean:\", cv.mean(), \"std:\", cv.std())"
      ],
      "metadata": {
        "colab": {
          "base_uri": "https://localhost:8080/"
        },
        "id": "icW-flgHx3TA",
        "outputId": "dd5d0e21-ee46-46a1-9ee7-e9ec9b997e5d"
      },
      "execution_count": 13,
      "outputs": [
        {
          "output_type": "stream",
          "name": "stdout",
          "text": [
            "RF CV mean: 0.8069801016885318 std: 0.02771748219995446\n"
          ]
        }
      ]
    },
    {
      "cell_type": "code",
      "source": [
        "param_dist = {\n",
        "    'clf__n_estimators': [300, 400, 600],\n",
        "    'clf__max_depth': [None, 5, 8, 12],\n",
        "    'clf__min_samples_split': [2, 4, 6],\n",
        "    'clf__min_samples_leaf': [1, 2, 3]\n",
        "}\n",
        "\n",
        "search = RandomizedSearchCV(\n",
        "    model_rf, param_distributions=param_dist,\n",
        "    n_iter=20, cv=5, scoring='accuracy', n_jobs=-1, random_state=42\n",
        ")\n",
        "search.fit(X, y)\n",
        "print(\"Best CV:\", search.best_score_)\n",
        "best_model = search.best_estimator_\n"
      ],
      "metadata": {
        "colab": {
          "base_uri": "https://localhost:8080/"
        },
        "id": "FDQL9eYdyWq9",
        "outputId": "e9f7ea4e-9b19-42e9-eb41-29730b81a303"
      },
      "execution_count": 14,
      "outputs": [
        {
          "output_type": "stream",
          "name": "stdout",
          "text": [
            "Best CV: 0.8282907538760907\n"
          ]
        }
      ]
    },
    {
      "cell_type": "markdown",
      "source": [
        "![Screenshot 2025-05-21 at 12.21.27.png](data:image/png;base64,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)"
      ],
      "metadata": {
        "id": "Rpsn85rrE0x6"
      }
    },
    {
      "cell_type": "code",
      "source": [
        "best_model.fit(X, y)\n",
        "\n",
        "test_feats = test.copy()\n",
        "\n",
        "final_preds = best_model.predict(test_feats)\n",
        "\n",
        "submission = pd.DataFrame({\n",
        "    'PassengerId': test['PassengerId'],\n",
        "    'Survived': final_preds\n",
        "})\n",
        "\n",
        "submission.to_csv('submission.csv', index=False)\n"
      ],
      "metadata": {
        "id": "W-z79Mq9xqak"
      },
      "execution_count": 15,
      "outputs": []
    }
  ]
}